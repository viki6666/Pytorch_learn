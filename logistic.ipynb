{
  "nbformat": 4,
  "nbformat_minor": 0,
  "metadata": {
    "colab": {
      "name": "logistic.ipynb",
      "version": "0.3.2",
      "provenance": [],
      "include_colab_link": true
    },
    "kernelspec": {
      "name": "python3",
      "display_name": "Python 3"
    }
  },
  "cells": [
    {
      "cell_type": "markdown",
      "metadata": {
        "id": "view-in-github",
        "colab_type": "text"
      },
      "source": [
        "<a href=\"https://colab.research.google.com/github/viki6666/Pytorch_learn/blob/master/logistic.ipynb\" target=\"_parent\"><img src=\"https://colab.research.google.com/assets/colab-badge.svg\" alt=\"Open In Colab\"/></a>"
      ]
    },
    {
      "cell_type": "code",
      "metadata": {
        "id": "qEQhaWT7cGFe",
        "colab_type": "code",
        "colab": {}
      },
      "source": [
        "import torch\n",
        "from torch import nn\n",
        "from torch.autograd import Variable\n",
        "import matplotlib.pyplot as plt\n",
        "import numpy as np\n",
        " \n",
        "# 假数据\n",
        "n_data = torch.ones(100, 2)         # 数据的基本形态\n",
        "x0 = torch.normal(2*n_data, 1)      # 类型0 x data (tensor), shape=(100, 2)\n",
        "y0 = torch.zeros(100)               # 类型0 y data (tensor), shape=(100, 1)\n",
        "x1 = torch.normal(-2*n_data, 1)     # 类型1 x data (tensor), shape=(100, 1)\n",
        "y1 = torch.ones(100)                # 类型1 y data (tensor), shape=(100, 1)\n",
        " \n",
        "# 注意 x, y 数据的数据形式是一定要像下面一样 (torch.cat 是在合并数据)\n",
        "x = torch.cat((x0, x1), 0).type(torch.FloatTensor)  # FloatTensor = 32-bit floating\n",
        "y = torch.cat((y0, y1), 0).type(torch.FloatTensor)    # LongTensor = 64-bit integer\n",
        " \n",
        "# 画图\n",
        "# plt.scatter(x.data.numpy()[:, 0], x.data.numpy()[:, 1], c=y.data.numpy(), s=100, lw=0, cmap='RdYlGn')\n",
        "# plt.show()\n",
        " \n",
        "class LogisticRegression(nn.Module):#构造模型\n",
        "    def __init__(self):\n",
        "        super(LogisticRegression, self).__init__()\n",
        "        self.lr = nn.Linear(2, 1)\n",
        "        self.sm = nn.Sigmoid()\n",
        " \n",
        "    def forward(self, x):#将模型链接起来\n",
        "        x = self.lr(x)\n",
        "        x = self.sm(x)\n",
        "        return x\n",
        " \n",
        "logistic_model = LogisticRegression()\n",
        "if torch.cuda.is_available():\n",
        "    logistic_model.cuda()\n",
        " \n",
        "# 定义损失函数和优化器\n",
        "criterion = nn.BCELoss()\n",
        "optimizer = torch.optim.SGD(logistic_model.parameters(), lr=1e-3, momentum=0.9)\n",
        " \n",
        "# 开始训练\n",
        "for epoch in range(10000):\n",
        "    if torch.cuda.is_available():\n",
        "        x_data = Variable(x).cuda()\n",
        "        y_data = Variable(y).cuda()\n",
        "    else:\n",
        "        x_data = Variable(x)#为求导做准备\n",
        "        y_data = Variable(y)\n",
        " \n",
        "    out = logistic_model(x_data)#模型\n",
        "    loss = criterion(out, y_data)#策略：损失函数\n",
        "    print_loss = loss.data.item()\n",
        "    mask = out.ge(0.5).float()  # 以0.5为阈值进行分类，ge(a,b) 相当于 a >= b\n",
        "    correct = (mask == y_data).sum()  # 计算正确预测的样本个数\n",
        "    acc = correct.item() / x_data.size(0)  # 计算精度\n",
        "    optimizer.zero_grad()#梯度清零\n",
        "    loss.backward()#反向传播\n",
        "    optimizer.step()\n",
        "    # 每隔20轮打印一下当前的误差和精度\n",
        "    if (epoch + 1) % 20 == 0:\n",
        "        print('*'*10)\n",
        "        print('epoch {}'.format(epoch+1)) # 训练轮数\n",
        "        print('loss is {:.4f}'.format(print_loss))  # 误差\n",
        "        print('acc is {:.4f}'.format(acc))  # 精度\n",
        " \n",
        "# 结果可视化\n",
        "w0, w1 = logistic_model.lr.weight[0]\n",
        "w0 = float(w0.item())\n",
        "w1 = float(w1.item())\n",
        "b = float(logistic_model.lr.bias.item())\n",
        "plot_x = np.arange(-7, 7, 0.1)\n",
        "plot_y = (-w0 * plot_x - b) / w1\n",
        "plt.scatter(x.data.numpy()[:, 0], x.data.numpy()[:, 1], c=y.data.numpy(), s=100, lw=0, cmap='RdYlGn')\n",
        "plt.plot(plot_x, plot_y)\n",
        "plt.show()"
      ],
      "execution_count": 0,
      "outputs": []
    },
    {
      "cell_type": "code",
      "metadata": {
        "id": "Qn00HL56cNxC",
        "colab_type": "code",
        "outputId": "80bf3c5e-d053-4ead-c736-ddb91a9ae1ac",
        "colab": {
          "base_uri": "https://localhost:8080/",
          "height": 269
        }
      },
      "source": [
        "# 假数据\n",
        "n_data = torch.ones(100, 2)         # 数据的基本形态\n",
        "x0 = torch.normal(2*n_data, 1)      # 类型0 x data (tensor), shape=(100, 2)\n",
        "y0 = torch.zeros(100)               # 类型0 y data (tensor), shape=(100, 1)\n",
        "x1 = torch.normal(-2*n_data, 1)     # 类型1 x data (tensor), shape=(100, 1)\n",
        "y1 = torch.ones(100)                # 类型1 y data (tensor), shape=(100, 1)\n",
        " \n",
        "# 注意 x, y 数据的数据形式是一定要像下面一样 (torch.cat 是在合并数据)\n",
        "x = torch.cat((x0, x1), 0).type(torch.FloatTensor)  # FloatTensor = 32-bit floating\n",
        "y = torch.cat((y0, y1), 0).type(torch.FloatTensor)    # LongTensor = 64-bit integer\n",
        " \n",
        "# 画图\n",
        "plt.scatter(x.data.numpy()[:, 0], x.data.numpy()[:, 1], c=y.data.numpy(), s=100, lw=0, cmap='RdYlGn')\n",
        "plt.show()"
      ],
      "execution_count": 3,
      "outputs": [
        {
          "output_type": "display_data",
          "data": {
            "image/png": "[encoded data removed]",
            "text/plain": [
              "<Figure size 432x288 with 1 Axes>"
            ]
          },
          "metadata": {
            "tags": []
          }
        }
      ]
    },
    {
      "cell_type": "code",
      "metadata": {
        "id": "6X99mWiKcL4a",
        "colab_type": "code",
        "colab": {}
      },
      "source": [
        "class LogisticRegression(nn.Module):#构造模型\n",
        "    def __init__(self):\n",
        "        super(LogisticRegression, self).__init__()\n",
        "        self.lr = nn.Linear(2, 1)\n",
        "        self.sm = nn.Sigmoid()\n",
        " \n",
        "    def forward(self, x):#将模型链接起来\n",
        "        x = self.lr(x)\n",
        "        x = self.sm(x)\n",
        "        return x"
      ],
      "execution_count": 0,
      "outputs": []
    },
    {
      "cell_type": "code",
      "metadata": {
        "id": "TJxO9BYVc2Hu",
        "colab_type": "code",
        "colab": {
          "base_uri": "https://localhost:8080/",
          "height": 89
        },
        "outputId": "bc8cdd0e-3508-4ffb-b6a6-170497b57941"
      },
      "source": [
        " LogisticRegression()#显示模型"
      ],
      "execution_count": 8,
      "outputs": [
        {
          "output_type": "execute_result",
          "data": {
            "text/plain": [
              "LogisticRegression(\n",
              "  (lr): Linear(in_features=2, out_features=1, bias=True)\n",
              "  (sm): Sigmoid()\n",
              ")"
            ]
          },
          "metadata": {
            "tags": []
          },
          "execution_count": 8
        }
      ]
    },
    {
      "cell_type": "code",
      "metadata": {
        "id": "Qs-TAUJkc4Pt",
        "colab_type": "code",
        "colab": {
          "base_uri": "https://localhost:8080/",
          "height": 35
        },
        "outputId": "70ec3272-682a-4111-c84d-1cdf9ad65a0e"
      },
      "source": [
        "type(logistic_model.parameters())#想查看里面是什么？"
      ],
      "execution_count": 15,
      "outputs": [
        {
          "output_type": "execute_result",
          "data": {
            "text/plain": [
              "generator"
            ]
          },
          "metadata": {
            "tags": []
          },
          "execution_count": 15
        }
      ]
    },
    {
      "cell_type": "code",
      "metadata": {
        "id": "u8jJsZ_4lB8r",
        "colab_type": "code",
        "colab": {
          "base_uri": "https://localhost:8080/",
          "height": 89
        },
        "outputId": "3349104e-85a4-4b3d-893a-6aecd06be9e7"
      },
      "source": [
        "for param in logistic_model.parameters():\n",
        "    print(type(param.data), param.size())\n",
        "    print(param.data)"
      ],
      "execution_count": 19,
      "outputs": [
        {
          "output_type": "stream",
          "text": [
            "<class 'torch.Tensor'> torch.Size([1, 2])\n",
            "tensor([[-2.2868, -1.7957]])\n",
            "<class 'torch.Tensor'> torch.Size([1])\n",
            "tensor([-0.0082])\n"
          ],
          "name": "stdout"
        }
      ]
    },
    {
      "cell_type": "code",
      "metadata": {
        "id": "qcE60K_CuwoM",
        "colab_type": "code",
        "colab": {}
      },
      "source": [
        "w0, w1 = logistic_model.lr.weight[0]"
      ],
      "execution_count": 0,
      "outputs": []
    },
    {
      "cell_type": "code",
      "metadata": {
        "id": "N43Es2STuxee",
        "colab_type": "code",
        "colab": {
          "base_uri": "https://localhost:8080/",
          "height": 35
        },
        "outputId": "280c2c63-7361-4f94-8eae-1df8ff0b12f3"
      },
      "source": [
        "w0"
      ],
      "execution_count": 21,
      "outputs": [
        {
          "output_type": "execute_result",
          "data": {
            "text/plain": [
              "tensor(-2.2868, grad_fn=<SelectBackward>)"
            ]
          },
          "metadata": {
            "tags": []
          },
          "execution_count": 21
        }
      ]
    },
    {
      "cell_type": "code",
      "metadata": {
        "id": "qeAnJtsQuzK-",
        "colab_type": "code",
        "colab": {}
      },
      "source": [
        ""
      ],
      "execution_count": 0,
      "outputs": []
    }
  ]
}