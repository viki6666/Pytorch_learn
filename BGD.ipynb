{
  "nbformat": 4,
  "nbformat_minor": 0,
  "metadata": {
    "colab": {
      "name": "BGD.ipynb",
      "version": "0.3.2",
      "provenance": [],
      "include_colab_link": true
    },
    "kernelspec": {
      "name": "python3",
      "display_name": "Python 3"
    }
  },
  "cells": [
    {
      "cell_type": "markdown",
      "metadata": {
        "id": "view-in-github",
        "colab_type": "text"
      },
      "source": [
        "<a href=\"https://colab.research.google.com/github/viki6666/Pytorch_learn/blob/master/BGD.ipynb\" target=\"_parent\"><img src=\"https://colab.research.google.com/assets/colab-badge.svg\" alt=\"Open In Colab\"/></a>"
      ]
    },
    {
      "cell_type": "markdown",
      "metadata": {
        "id": "BqjWZJpKLRXz",
        "colab_type": "text"
      },
      "source": [
        "梯度下降：获取最小函数值"
      ]
    },
    {
      "cell_type": "code",
      "metadata": {
        "id": "Je4a-vYkKa9S",
        "colab_type": "code",
        "colab": {}
      },
      "source": [
        "import torch\n",
        "\n",
        "#使用梯度下降法求y=x^2+2x+1 最小值 从x=3开始\n",
        "\n",
        "x=torch.Tensor([3])\n",
        "for epoch in range(100):\n",
        "    y=x**2+2*x+1    \n",
        "    \n",
        "    x-=(2*x+2)*0.05  #导数是 2*x+2\n",
        "    \n",
        "    print('min y={1:.2}, x={0:.2}'.format(x[0],y[0]))\n"
      ],
      "execution_count": 0,
      "outputs": []
    },
    {
      "cell_type": "code",
      "metadata": {
        "id": "di6m6DX0LPFO",
        "colab_type": "code",
        "colab": {}
      },
      "source": [
        "import torch\n",
        "from torch.autograd import Variable\n",
        "#使用梯度下降法求y=x^2+2x+1 最小值 从x=3开始\n",
        "\n",
        "x=Variable(torch.Tensor([3]),requires_grad=True)\n",
        "for epoch in range(100):\n",
        "    y=x**2+2*x+1    \n",
        "    y.backward()\n",
        "    x.data-=x.grad.data*0.05\n",
        "    x.grad.data.zero_()\n",
        "    print('min y={1:.2}, x={0:.2}'.format(x.data[0],y.data[0]))"
      ],
      "execution_count": 0,
      "outputs": []
    },
    {
      "cell_type": "code",
      "metadata": {
        "id": "Vct0ejDWMVcn",
        "colab_type": "code",
        "colab": {}
      },
      "source": [
        "\n",
        "#最小二乘法 拟合y=3x+1\n",
        "n=100\n",
        "x=torch.rand((n))\n",
        "y=x*3+1+torch.rand(n)/5   #y=3x+1\n",
        "k=Variable(torch.Tensor([1]),requires_grad=True)\n",
        "b=Variable(torch.Tensor([0]),requires_grad=True)\n",
        "\n",
        "for epoch in range(100):\n",
        "    l=torch.sum((k*x+b-y)**2)/100  #MSE 最小二乘法 加上随即噪声\n",
        "    #反向传播\n",
        "    l.backward()\n",
        "    #参数更新\n",
        "    k.data-=k.grad.data*0.3\n",
        "    b.data-=b.grad.data*0.3\n",
        "    print(\"k={:.2},b={:.2},l={:.2}\".format(k.data[0],b.data[0],l.data))\n",
        "     #梯度归零\n",
        "    k.grad.data.zero_()  \n",
        "    b.grad.data.zero_()"
      ],
      "execution_count": 0,
      "outputs": []
    },
    {
      "cell_type": "code",
      "metadata": {
        "id": "niqov6WlSnwj",
        "colab_type": "code",
        "colab": {}
      },
      "source": [
        "#最小二乘法 拟合y=3x+1\n",
        "n=100\n",
        "x=torch.rand((n))\n",
        "y=x*3+1+torch.rand(n)/5   #数据生成：y=3x+1 加上随机噪声\n",
        "k=Variable(torch.Tensor([1]),requires_grad=True)\n",
        "b=Variable(torch.Tensor([0]),requires_grad=True)\n",
        "loss=torch.nn.MSELoss()\n",
        "for epoch in range(100):\n",
        "    l=loss(k*x+b,y)    #MSE 最小二乘法\n",
        "    l.backward()\n",
        "    k.data-=k.grad.data*0.3\n",
        "    b.data-=b.grad.data*0.3\n",
        "    print(\"k={:.2},b={:.2},l={:.2}\".format(k.data[0],b.data[0],l.data))\n",
        "    k.grad.data.zero_()\n",
        "    b.grad.data.zero_()"
      ],
      "execution_count": 0,
      "outputs": []
    },
    {
      "cell_type": "markdown",
      "metadata": {
        "id": "JkMMaCIrMO-z",
        "colab_type": "text"
      },
      "source": [
        "三种梯度下降的方法：BGD"
      ]
    },
    {
      "cell_type": "code",
      "metadata": {
        "id": "RHDzVnDqE35o",
        "colab_type": "code",
        "colab": {}
      },
      "source": [
        "\n",
        "import time\n",
        "import numpy as np\n",
        " \n",
        "# 样本数为100条，特征数为二维\n",
        "def get_data(sample_num=100):\n",
        "    x1 = np.linspace(0, 9, sample_num)\n",
        "    x2 = np.linspace(4, 13, sample_num)\n",
        "    x = np.concatenate(([x1], [x2]), axis=0).T\n",
        "    y = np.dot(x, np.array([3, 4]).T) \n",
        "    return x, y\n",
        " \n",
        " \n",
        "# BGD\n",
        "def bgd(x, y, step_size=0.01, max_iter_count=10000):\n",
        "    w = np.ones((x.shape[1],))\n",
        "    x1 = x[:, 0]\n",
        "    x2 = x[:, 1]\n",
        "    loss = 10\n",
        "    iter_count = 0\n",
        "    while abs(loss) > 0.0001 and iter_count < max_iter_count:\n",
        "        w[0] -= step_size * \\\n",
        "            np.sum((w[0] * x1 + w[1] * x2 - y) * x1) / x.shape[0]\n",
        "        w[1] -= step_size * \\\n",
        "            np.sum((w[0] * x1 + w[1] * x2 - y) * x2) / x.shape[0]\n",
        "        loss = np.sum(w[0] * x1 + w[1] * x2 - y)\n",
        "        iter_count += 1\n",
        "        print(\"iter_count:%d    the loss:%f\" % (iter_count, loss))\n",
        "    return w\n",
        "\n",
        "\n"
      ],
      "execution_count": 0,
      "outputs": []
    },
    {
      "cell_type": "code",
      "metadata": {
        "id": "rTeWHAuIF6aj",
        "colab_type": "code",
        "colab": {}
      },
      "source": [
        "if __name__ == '__main__':\n",
        "    time1 = time.time()\n",
        "    x, y = get_data()\n",
        "    print(bgd(x, y))\n",
        "#     print(sgd(x, y))\n",
        "#    print(msgd(x, y, 10))\n",
        "    time2 = time.time()\n",
        "    print(time2 - time1)"
      ],
      "execution_count": 0,
      "outputs": []
    },
    {
      "cell_type": "markdown",
      "metadata": {
        "id": "Enp_JIx2bwq0",
        "colab_type": "text"
      },
      "source": [
        "简单的两层神经网络"
      ]
    },
    {
      "cell_type": "code",
      "metadata": {
        "id": "TBoy-hp5VarN",
        "colab_type": "code",
        "colab": {
          "base_uri": "https://localhost:8080/",
          "height": 53
        },
        "outputId": "bb5cf85f-55dd-461f-c3fd-07e6577c03f6"
      },
      "source": [
        "# -*- coding: utf-8 -*- \n",
        "import torch as torch\n",
        "# 加载数据\n",
        "data_num = 233#数据\n",
        "data_dim = 10#维度:属性\n",
        "data = torch.randn(data_num, data_dim,dtype=torch.float)\n",
        "label = torch.randn(data_num, data_dim,dtype=torch.float)\n",
        "\n",
        "# 定义2层神经网络，并设置每层神经元个数\n",
        "layer1_in = data_dim\n",
        "layer1_out = layer2_in = 7\n",
        "layer2_out = 10\n",
        "\n",
        "# 先用随机值初始化两层神经网络的权重\n",
        "w1 = torch.randn(layer1_in, layer1_out, dtype=torch.float,requires_grad=True)\n",
        "w2 = torch.randn(layer2_in, layer2_out, dtype=torch.float,requires_grad=True)\n",
        "\n",
        "# 正向传播\n",
        "output1 = data.mm(w1)#torch.mm(a, b)是矩阵a和b矩阵相乘\n",
        "output2 = output1.clamp(min=0).mm(w2)\n",
        "\n",
        "# 根据损失函数计算误差\n",
        "loss = (output2 - label).pow(2).sum()\n",
        "# 获取loss的数值\n",
        "print('loss', loss.item())\n",
        "\n",
        "# 反向传播计算导数\n",
        "loss.backward()\n",
        "\n",
        "learning_rate = 1e-4\n",
        "# 更新参数\n",
        "with torch.no_grad():\n",
        "    w1 -= learning_rate * w1.grad\n",
        "    w2 -= learning_rate * w2.grad\n",
        "    # 对本次计算的导数清零\n",
        "    w1.grad.zero_()\n",
        "    w2.grad.zero_()\n"
      ],
      "execution_count": 35,
      "outputs": [
        {
          "output_type": "stream",
          "text": [
            "loss 60099.50390625\n",
            "loss 60099.50390625\n"
          ],
          "name": "stdout"
        }
      ]
    },
    {
      "cell_type": "code",
      "metadata": {
        "id": "3bVfOdNZaOPR",
        "colab_type": "code",
        "colab": {}
      },
      "source": [
        ""
      ],
      "execution_count": 0,
      "outputs": []
    }
  ]
}