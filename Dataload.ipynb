{
  "nbformat": 4,
  "nbformat_minor": 0,
  "metadata": {
    "colab": {
      "name": "Dataload.ipynb",
      "version": "0.3.2",
      "provenance": [],
      "include_colab_link": true
    },
    "kernelspec": {
      "name": "python3",
      "display_name": "Python 3"
    },
    "accelerator": "TPU"
  },
  "cells": [
    {
      "cell_type": "markdown",
      "metadata": {
        "id": "view-in-github",
        "colab_type": "text"
      },
      "source": [
        "<a href=\"https://colab.research.google.com/github/viki6666/Pytorch_learn/blob/master/Dataload.ipynb\" target=\"_parent\"><img src=\"https://colab.research.google.com/assets/colab-badge.svg\" alt=\"Open In Colab\"/></a>"
      ]
    },
    {
      "cell_type": "markdown",
      "metadata": {
        "id": "4hIQwt-sJx1J",
        "colab_type": "text"
      },
      "source": [
        "一、[从本地读取数据](https://oldpan.me/archives/how-to-load-dataset-in-correctly-pytorch)"
      ]
    },
    {
      "cell_type": "markdown",
      "metadata": {
        "id": "14S6jnWS3_gK",
        "colab_type": "text"
      },
      "source": [
        "Dataset类是Pytorch中图像数据集中最为重要的一个类，也是Pytorch中所有数据集加载类中应该继承的父类。其中父类中的两个私有成员函数必须被重载，否则将会触发错误提示：\n",
        "\n",
        "def __getitem__(self, index):\n",
        "def __len__(self):\n",
        "其中__len__应该返回数据集的大小，而__getitem__应该编写支持数据集索引的函数，例如通过dataset[i]可以得到数据集中的第i+1个数据。"
      ]
    },
    {
      "cell_type": "markdown",
      "metadata": {
        "id": "3C62UHYO1GGt",
        "colab_type": "text"
      },
      "source": [
        "基本数据类：\n",
        "_init_初始化：路径，参数设置，\n",
        "_getitem_ 图像读取，增强，返回图像，\n",
        "_len_图像数量"
      ]
    },
    {
      "cell_type": "code",
      "metadata": {
        "id": "j-YS4xT6svn8",
        "colab_type": "code",
        "colab": {}
      },
      "source": [
        "class ShipDataset(Dataset):\n",
        "  def _init_(self,root,augment=None):\n",
        "    self,image_files=np.array([x.path for x in os.scandir(root) if\n",
        "                               x.name.endswith(\".jpg\")or x.name.endswith(\".png\") or x.name.endswith(\".JPG\")]\n",
        "                              self.augment=augment#是否需要图像增强\n",
        "  def _getitem_(self,index):\n",
        "     #读取图像数据并返回\n",
        "     #这里的open_image是读取图像函数，可以用PIL，opencv等库读取                         \n",
        "     return open_image(self.image_files[index])\n",
        "\n",
        "  def _getitem_(self,index):\n",
        "      if self.augment\n",
        "         image=open_image(self.image_file[index])\n",
        "         image=self.augmet(image)#这里对图像进行增强\n",
        "         return to_tensor(image) #将读取到的图像变成tensor传出  \n",
        "      else:\n",
        "         #如果不进行增强，直接读取数据并返回\n",
        "          image=open_image(self.image_file[index])\n",
        "          return to_tensor(image)                     \n",
        "                              \n",
        "     def _len_(self)\n",
        "     #返回图像的数量                         \n",
        "     return len(self.image_files)                           "
      ],
      "execution_count": 0,
      "outputs": []
    },
    {
      "cell_type": "markdown",
      "metadata": {
        "id": "zLaZSm_469zu",
        "colab_type": "text"
      },
      "source": [
        "DataLoader位于torch.utils.data.DataLoader, 为我们提供了对Dataset的读取操作  \n",
        "dataset : 上面所实现的自定义类Dataset  \n",
        "batch_size : 默认为1，每次读取的batch的大小\n",
        "shuffle : 默认为False， 是否对数据进行shuffle操作(简单理解成将数据集打乱)  \n",
        "num_works : 默认为0，表示在加载数据的时候每次使用子进程的数量，即简单的多线程预读数据的方法  \n",
        "DataLoader返回的是一个迭代器，我们通过这个迭代器来获取数据"
      ]
    },
    {
      "cell_type": "code",
      "metadata": {
        "id": "9-ewOXzAvbXK",
        "colab_type": "code",
        "colab": {}
      },
      "source": [
        "ship_train_dataset=ShipDataset(data_path,augment=transform)\n",
        "# 利用dataloader读取我们的数据对象，并设定batch-size和工作现场\n",
        "ship_train_loader = DataLoader(ship_train_dataset, batch_size=16, num_workers=4, shuffle=False, **kwargs)"
      ],
      "execution_count": 0,
      "outputs": []
    },
    {
      "cell_type": "code",
      "metadata": {
        "id": "1SSiC9O5947G",
        "colab_type": "code",
        "colab": {}
      },
      "source": [
        "for image in train_loader:\n",
        "        optimizer.zero_grad()\n",
        "        output = model(image)     # model模型处理(n,c,h,w)格式的数据，n为batch-size"
      ],
      "execution_count": 0,
      "outputs": []
    },
    {
      "cell_type": "markdown",
      "metadata": {
        "id": "RnkBGI4uJmUr",
        "colab_type": "text"
      },
      "source": [
        "二、从torchvision中读取数据\n",
        "[详解](https://www.cnblogs.com/CATHY-MU/p/7760992.html)"
      ]
    },
    {
      "cell_type": "code",
      "metadata": {
        "id": "ygHkv2bnGHD1",
        "colab_type": "code",
        "colab": {
          "base_uri": "https://localhost:8080/",
          "height": 193
        },
        "outputId": "26995ded-4d8e-4ae6-c549-23cdd0753aee"
      },
      "source": [
        "#coding=utf-8\n",
        "import torch\n",
        "import torchvision\n",
        "import torchvision.transforms as transforms\n",
        " \n",
        "# torchvision输出的是PILImage，值的范围是[0, 1].\n",
        "# 我们将其转化为tensor数据，并归一化为[-1, 1]。\n",
        "transform=transforms.Compose([transforms.ToTensor(),\n",
        "                             transforms.Normalize((0.5, 0.5, 0.5), (0.5, 0.5, 0.5)),\n",
        "                             ])\n",
        " \n",
        "#训练集，将相对目录./data下的cifar-10-batches-py文件夹中的全部数据（50000张图片作为训练数据）加载到内存中，若download为True时，会自动从网上下载数据并解压\n",
        "trainset = torchvision.datasets.CIFAR10(root='./data', train=True, download=False, transform=transform)\n",
        " \n",
        "#将训练集的50000张图片划分成12500份，每份4张图，用于mini-batch输入。shffule=True在表示不同批次的数据遍历时，打乱顺序。num_workers=2表示使用两个子进程来加载数据\n",
        "trainloader = torch.utils.data.DataLoader(trainset, batch_size=4, shuffle=False, num_workers=2)\n",
        " \n",
        "classes = ('plane', 'car', 'bird', 'cat',\n",
        "           'deer', 'dog', 'frog', 'horse', 'ship', 'truck')\n",
        " \n",
        "print(len(trainset)) \n",
        "print(len(trainloader)) \n",
        " \n",
        " \n",
        " \n",
        "#下面是代码只是为了给小伙伴们显示一个图片例子，让大家有个直觉感受。\n",
        "# functions to show an image\n",
        "import matplotlib.pyplot as plt\n",
        "import numpy as np\n",
        "#matplotlib inline\n",
        "def imshow(img):\n",
        "    img = img / 2 + 0.5 # unnormalize\n",
        "    npimg = img.numpy()\n",
        "    plt.imshow(np.transpose(npimg, (1,2,0)))\n",
        "    plt.show()\n",
        " \n",
        " \n",
        " \n",
        " \n",
        "# show some random training images\n",
        "dataiter = iter(trainloader)\n",
        "images, labels = dataiter.next()\n",
        " \n",
        "# print images\n",
        "imshow(torchvision.utils.make_grid(images))\n",
        "# print labels\n",
        "print(' '.join('%5s'%classes[labels[j]] for j in range(4)))\n"
      ],
      "execution_count": 10,
      "outputs": [
        {
          "output_type": "stream",
          "text": [
            "50000\n",
            "12500\n"
          ],
          "name": "stdout"
        },
        {
          "output_type": "display_data",
          "data": {
            "image/png": "[encoded data removed]",
            "text/plain": [
              "<Figure size 432x288 with 1 Axes>"
            ]
          },
          "metadata": {
            "tags": []
          }
        },
        {
          "output_type": "stream",
          "text": [
            " frog truck truck  deer\n"
          ],
          "name": "stdout"
        }
      ]
    }
  ]
}